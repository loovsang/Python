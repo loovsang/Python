{
  "nbformat": 4,
  "nbformat_minor": 0,
  "metadata": {
    "colab": {
      "name": "Unit 2 L3 assign",
      "provenance": [],
      "authorship_tag": "ABX9TyPuSUb1bdMPzFmWesqrjQIO",
      "include_colab_link": true
    },
    "kernelspec": {
      "name": "python3",
      "display_name": "Python 3"
    },
    "language_info": {
      "name": "python"
    }
  },
  "cells": [
    {
      "cell_type": "markdown",
      "metadata": {
        "id": "view-in-github",
        "colab_type": "text"
      },
      "source": [
        "<a href=\"https://colab.research.google.com/github/loovsang/unit-2-L2-assignment-/blob/main/Unit_2_L3_assign.ipynb\" target=\"_parent\"><img src=\"https://colab.research.google.com/assets/colab-badge.svg\" alt=\"Open In Colab\"/></a>"
      ]
    },
    {
      "cell_type": "code",
      "execution_count": null,
      "metadata": {
        "id": "QkuDBRYeoPZN"
      },
      "outputs": [],
      "source": [
        ""
      ]
    },
    {
      "cell_type": "markdown",
      "source": [
        "Lobsang Dolma U2L3 assignment \n",
        "1. List of five fav TV show 2. print the list in its original order. 3. \n",
        "\n"
      ],
      "metadata": {
        "id": "ZwZuBK8coRui"
      }
    },
    {
      "cell_type": "markdown",
      "source": [
        ""
      ],
      "metadata": {
        "id": "Ge1Bp4yOqeO6"
      }
    },
    {
      "cell_type": "markdown",
      "source": [
        "3. Use the sorted() function to print the list in alphabatical order? How\n",
        "\n",
        "is sorted different from sort? Sort is permanently and sorted function to temporarily sort the list. 4. print out your original list. 5. and 6"
      ],
      "metadata": {
        "id": "vpjGkeZhrb0p"
      }
    },
    {
      "cell_type": "code",
      "source": [
        ""
      ],
      "metadata": {
        "id": "ie-Yaw7ksa_o"
      },
      "execution_count": 2,
      "outputs": []
    },
    {
      "cell_type": "code",
      "source": [
        ""
      ],
      "metadata": {
        "id": "0NUGp19dr8yA"
      },
      "execution_count": null,
      "outputs": []
    },
    {
      "cell_type": "code",
      "source": [
        "favourite_tvshows = ['planet earth', 'avatar', 'when calls the heart', 'bachulate', 'tlc']\n",
        "print(favourite_tvshows)\n",
        "print(sorted(favourite_tvshows))\n",
        "print(favourite_tvshows)\n",
        "favourite_tvshows.sort(reverse=True)\n",
        "print(favourite_tvshows)\n",
        "len(favourite_tvshows)\n"
      ],
      "metadata": {
        "colab": {
          "base_uri": "https://localhost:8080/"
        },
        "id": "LrzRBsxZorUj",
        "outputId": "e270e4d3-19d0-440b-a738-a84af5415413"
      },
      "execution_count": 6,
      "outputs": [
        {
          "output_type": "stream",
          "name": "stdout",
          "text": [
            "['planet earth', 'avatar', 'when calls the heart', 'bachulate', 'tlc']\n",
            "['avatar', 'bachulate', 'planet earth', 'tlc', 'when calls the heart']\n",
            "['planet earth', 'avatar', 'when calls the heart', 'bachulate', 'tlc']\n",
            "['when calls the heart', 'tlc', 'planet earth', 'bachulate', 'avatar']\n"
          ]
        },
        {
          "output_type": "execute_result",
          "data": {
            "text/plain": [
              "5"
            ]
          },
          "metadata": {},
          "execution_count": 6
        }
      ]
    }
  ]
}