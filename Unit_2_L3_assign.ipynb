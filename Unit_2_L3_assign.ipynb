{
  "nbformat": 4,
  "nbformat_minor": 0,
  "metadata": {
    "colab": {
      "name": "Unit 2 L3 assign",
      "provenance": [],
      "authorship_tag": "ABX9TyPT9xlkAPW8cgjHsjh12axs",
      "include_colab_link": true
    },
    "kernelspec": {
      "name": "python3",
      "display_name": "Python 3"
    },
    "language_info": {
      "name": "python"
    }
  },
  "cells": [
    {
      "cell_type": "markdown",
      "metadata": {
        "id": "view-in-github",
        "colab_type": "text"
      },
      "source": [
        "<a href=\"https://colab.research.google.com/github/loovsang/unit-2-L2-assignment-/blob/main/Unit_2_L3_assign.ipynb\" target=\"_parent\"><img src=\"https://colab.research.google.com/assets/colab-badge.svg\" alt=\"Open In Colab\"/></a>"
      ]
    },
    {
      "cell_type": "code",
      "execution_count": null,
      "metadata": {
        "id": "QkuDBRYeoPZN"
      },
      "outputs": [],
      "source": [
        ""
      ]
    },
    {
      "cell_type": "markdown",
      "source": [
        "Lobsang Dolma U2L3 assignment \n",
        "1. List of five fav TV show 2. print the list in its original order\n",
        "\n"
      ],
      "metadata": {
        "id": "ZwZuBK8coRui"
      }
    },
    {
      "cell_type": "markdown",
      "source": [
        ""
      ],
      "metadata": {
        "id": "Ge1Bp4yOqeO6"
      }
    },
    {
      "cell_type": "markdown",
      "source": [
        "3. Use the sorted() function to print the list in alphabatical order? How is sorted different from sort?"
      ],
      "metadata": {
        "id": "vpjGkeZhrb0p"
      }
    },
    {
      "cell_type": "code",
      "source": [
        ""
      ],
      "metadata": {
        "id": "0NUGp19dr8yA"
      },
      "execution_count": null,
      "outputs": []
    },
    {
      "cell_type": "code",
      "source": [
        "favourite_tvshows = ['planet earth', 'avatar', 'when calls the heart', 'bachulate', 'tlc']\n",
        "print(favourite_tvshows)"
      ],
      "metadata": {
        "colab": {
          "base_uri": "https://localhost:8080/"
        },
        "id": "LrzRBsxZorUj",
        "outputId": "6da3f0e5-0949-49c5-91d8-90b2563479ae"
      },
      "execution_count": 5,
      "outputs": [
        {
          "output_type": "stream",
          "name": "stdout",
          "text": [
            "['planet earth', 'avatar', 'when calls the heart', 'bachulate', 'tlc']\n"
          ]
        }
      ]
    }
  ]
}