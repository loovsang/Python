{
  "nbformat": 4,
  "nbformat_minor": 0,
  "metadata": {
    "colab": {
      "name": "U2 L5 assignment",
      "provenance": [],
      "authorship_tag": "ABX9TyOzP+D6nF0Ta20fRetR0tL1",
      "include_colab_link": true
    },
    "kernelspec": {
      "name": "python3",
      "display_name": "Python 3"
    },
    "language_info": {
      "name": "python"
    }
  },
  "cells": [
    {
      "cell_type": "markdown",
      "metadata": {
        "id": "view-in-github",
        "colab_type": "text"
      },
      "source": [
        "<a href=\"https://colab.research.google.com/github/loovsang/unit-2-L2-assignment-/blob/main/U2_L5_assignment.ipynb\" target=\"_parent\"><img src=\"https://colab.research.google.com/assets/colab-badge.svg\" alt=\"Open In Colab\"/></a>"
      ]
    },
    {
      "cell_type": "markdown",
      "source": [
        ""
      ],
      "metadata": {
        "id": "R35LH4Qyw_zl"
      }
    },
    {
      "cell_type": "markdown",
      "source": [
        "Q 2"
      ],
      "metadata": {
        "id": "02-TpDum3JhX"
      }
    },
    {
      "cell_type": "code",
      "source": [
        "num = list(range(1,11))\n",
        "print(num)\n",
        "for number in num:\n",
        "  if number==1:\n",
        "    print(str(number)+'st')\n",
        "  elif number==2:\n",
        "    print(str(number)+'nd')\n",
        "  elif number==3:\n",
        "    print(str(number)+'rd')\n",
        "  else:\n",
        "    print(str(number)+'th')"
      ],
      "metadata": {
        "colab": {
          "base_uri": "https://localhost:8080/"
        },
        "id": "7VfxSZaD3Li_",
        "outputId": "14c85fff-965f-49ba-ceea-dd2a30640892"
      },
      "execution_count": 34,
      "outputs": [
        {
          "output_type": "stream",
          "name": "stdout",
          "text": [
            "[1, 2, 3, 4, 5, 6, 7, 8, 9, 10]\n",
            "1st\n",
            "2nd\n",
            "3rd\n",
            "4th\n",
            "5th\n",
            "6th\n",
            "7th\n",
            "8th\n",
            "9th\n",
            "10th\n"
          ]
        }
      ]
    },
    {
      "cell_type": "code",
      "source": [
        "Q 1"
      ],
      "metadata": {
        "id": "D23me3-4xClt"
      },
      "execution_count": null,
      "outputs": []
    },
    {
      "cell_type": "code",
      "source": [
        "username = ['frontoffice', 'gymnastic', 'security', 'admin', 'sales']\n",
        "if 'admin' in username:\n",
        "  print(\"special greetings, they are the admin after all!\")\n",
        "else:\n",
        "  print(\"others can get the generic greetings\")"
      ],
      "metadata": {
        "colab": {
          "base_uri": "https://localhost:8080/"
        },
        "id": "QVn0iYTwy5Om",
        "outputId": "b89b6a94-22c3-4353-b4d8-a9139f7d91b6"
      },
      "execution_count": 3,
      "outputs": [
        {
          "output_type": "stream",
          "name": "stdout",
          "text": [
            "special greetings, they are the admin after all!\n"
          ]
        }
      ]
    }
  ]
}