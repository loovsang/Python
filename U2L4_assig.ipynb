{
  "nbformat": 4,
  "nbformat_minor": 0,
  "metadata": {
    "colab": {
      "name": "U2L4 assig",
      "provenance": [],
      "authorship_tag": "ABX9TyPYDnO7csSZa0wqwlp0EWOv",
      "include_colab_link": true
    },
    "kernelspec": {
      "name": "python3",
      "display_name": "Python 3"
    },
    "language_info": {
      "name": "python"
    }
  },
  "cells": [
    {
      "cell_type": "markdown",
      "metadata": {
        "id": "view-in-github",
        "colab_type": "text"
      },
      "source": [
        "<a href=\"https://colab.research.google.com/github/loovsang/unit-2-L2-assignment-/blob/main/U2L4_assig.ipynb\" target=\"_parent\"><img src=\"https://colab.research.google.com/assets/colab-badge.svg\" alt=\"Open In Colab\"/></a>"
      ]
    },
    {
      "cell_type": "code",
      "execution_count": null,
      "metadata": {
        "id": "gqfifsKewgzA"
      },
      "outputs": [],
      "source": [
        ""
      ]
    },
    {
      "cell_type": "markdown",
      "source": [
        "Lobsang Dolma\n",
        "U2L4 assignment"
      ],
      "metadata": {
        "id": "obAWHSd-wlvb"
      }
    },
    {
      "cell_type": "code",
      "source": [
        "carbrands = ['audi', 'ford', 'lexus', 'honda', 'toyota']\n",
        "for car in carbrands:\n",
        "  print(car)\n",
        "  print(car + \", is one of my fav cars!\")\n",
        "carbrands.sort()\n",
        "print(carbrands)\n",
        "print(carbrands[0:3])\n",
        "print(carbrands[-2:])\n",
        "\n",
        "  \n",
        "   "
      ],
      "metadata": {
        "colab": {
          "base_uri": "https://localhost:8080/"
        },
        "id": "jLHV0gmiws3w",
        "outputId": "63cbc725-be69-4364-e4ad-b8f148e228e3"
      },
      "execution_count": 35,
      "outputs": [
        {
          "output_type": "stream",
          "name": "stdout",
          "text": [
            "audi\n",
            "audi, is one of my fav cars!\n",
            "ford\n",
            "ford, is one of my fav cars!\n",
            "lexus\n",
            "lexus, is one of my fav cars!\n",
            "honda\n",
            "honda, is one of my fav cars!\n",
            "toyota\n",
            "toyota, is one of my fav cars!\n",
            "['audi', 'ford', 'honda', 'lexus', 'toyota']\n",
            "['audi', 'ford', 'honda']\n",
            "['lexus', 'toyota']\n"
          ]
        }
      ]
    },
    {
      "cell_type": "markdown",
      "source": [
        "Numbers"
      ],
      "metadata": {
        "id": "zYiyNCPC02mZ"
      }
    },
    {
      "cell_type": "code",
      "source": [
        "for num in range (0,21,2):\n",
        "  print(num)"
      ],
      "metadata": {
        "colab": {
          "base_uri": "https://localhost:8080/"
        },
        "id": "11dM9_Sz1QVj",
        "outputId": "b58a3f34-2eac-4993-93e1-71c27c790590"
      },
      "execution_count": 27,
      "outputs": [
        {
          "output_type": "stream",
          "name": "stdout",
          "text": [
            "0\n",
            "2\n",
            "4\n",
            "6\n",
            "8\n",
            "10\n",
            "12\n",
            "14\n",
            "16\n",
            "18\n",
            "20\n"
          ]
        }
      ]
    }
  ]
}