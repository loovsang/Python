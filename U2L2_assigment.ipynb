{
  "nbformat": 4,
  "nbformat_minor": 0,
  "metadata": {
    "colab": {
      "name": "U2L2 assigment",
      "provenance": [],
      "authorship_tag": "ABX9TyNCj+hxWgAb8CyN/44IxIZL",
      "include_colab_link": true
    },
    "kernelspec": {
      "name": "python3",
      "display_name": "Python 3"
    },
    "language_info": {
      "name": "python"
    }
  },
  "cells": [
    {
      "cell_type": "markdown",
      "metadata": {
        "id": "view-in-github",
        "colab_type": "text"
      },
      "source": [
        "<a href=\"https://colab.research.google.com/github/loovsang/unit-2-L2-assignment-/blob/main/U2L2_assigment.ipynb\" target=\"_parent\"><img src=\"https://colab.research.google.com/assets/colab-badge.svg\" alt=\"Open In Colab\"/></a>"
      ]
    },
    {
      "cell_type": "code",
      "execution_count": null,
      "metadata": {
        "id": "vtijg0I0w7Cz"
      },
      "outputs": [],
      "source": [
        ""
      ]
    },
    {
      "cell_type": "markdown",
      "source": [
        ""
      ],
      "metadata": {
        "id": "bA7DryVhw7rQ"
      }
    },
    {
      "cell_type": "markdown",
      "source": [
        "Q 1-5"
      ],
      "metadata": {
        "id": "R35LH4Qyw_zl"
      }
    },
    {
      "cell_type": "code",
      "source": [
        "do all the work and the when done"
      ],
      "metadata": {
        "id": "D23me3-4xClt"
      },
      "execution_count": null,
      "outputs": []
    }
  ]
}